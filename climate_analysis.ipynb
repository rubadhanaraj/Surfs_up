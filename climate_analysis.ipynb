{
 "cells": [
  {
   "cell_type": "code",
   "execution_count": 2,
   "metadata": {},
   "outputs": [],
   "source": [
    "%matplotlib inline\n",
    "from matplotlib import style\n",
    "style.use('fivethirtyeight')\n",
    "import matplotlib.pyplot as plt"
   ]
  },
  {
   "cell_type": "code",
   "execution_count": 3,
   "metadata": {},
   "outputs": [],
   "source": [
    "import numpy as np\n",
    "import pandas as pd"
   ]
  },
  {
   "cell_type": "code",
   "execution_count": 4,
   "metadata": {},
   "outputs": [],
   "source": [
    "import datetime as dt"
   ]
  },
  {
   "cell_type": "markdown",
   "metadata": {},
   "source": [
    "# Reflect Tables into SQLAlchemy ORM"
   ]
  },
  {
   "cell_type": "code",
   "execution_count": 5,
   "metadata": {},
   "outputs": [],
   "source": [
    "# Python SQL toolkit and Object Relational Mapper\n",
    "import sqlalchemy\n",
    "from sqlalchemy.ext.automap import automap_base\n",
    "from sqlalchemy.orm import Session\n",
    "from sqlalchemy import create_engine, func"
   ]
  },
  {
   "cell_type": "code",
   "execution_count": 6,
   "metadata": {},
   "outputs": [],
   "source": [
    "engine = create_engine(\"sqlite:///hawaii.sqlite\")\n"
   ]
  },
  {
   "cell_type": "code",
   "execution_count": 7,
   "metadata": {},
   "outputs": [],
   "source": [
    "# reflect an existing database into a new model\n",
    "Base = automap_base()\n",
    "# reflect the tables\n",
    "Base.prepare(engine, reflect=True)"
   ]
  },
  {
   "cell_type": "code",
   "execution_count": 8,
   "metadata": {},
   "outputs": [
    {
     "data": {
      "text/plain": [
       "['measurement', 'station']"
      ]
     },
     "execution_count": 8,
     "metadata": {},
     "output_type": "execute_result"
    }
   ],
   "source": [
    "# We can view all of the classes that automap found\n",
    "Base.classes.keys()"
   ]
  },
  {
   "cell_type": "code",
   "execution_count": 9,
   "metadata": {},
   "outputs": [],
   "source": [
    "# Save references to each table\n",
    "Measurement = Base.classes.measurement\n",
    "Station = Base.classes.station"
   ]
  },
  {
   "cell_type": "code",
   "execution_count": 10,
   "metadata": {},
   "outputs": [],
   "source": [
    "# Create our session (link) from Python to the DB\n",
    "session = Session(engine)"
   ]
  },
  {
   "cell_type": "markdown",
   "metadata": {},
   "source": [
    "# Exploratory Climate Analysis"
   ]
  },
  {
   "cell_type": "code",
   "execution_count": 24,
   "metadata": {},
   "outputs": [
    {
     "data": {
      "text/plain": [
       "(array([-500.,    0.,  500., 1000., 1500., 2000., 2500.]),\n",
       " [Text(-500.0, 0, '2017-03-12'),\n",
       "  Text(0.0, 0, '2016-08-23'),\n",
       "  Text(500.0, 0, '2017-01-09'),\n",
       "  Text(1000.0, 0, '2017-08-14'),\n",
       "  Text(1500.0, 0, '2017-07-21'),\n",
       "  Text(2000.0, 0, '2016-12-24'),\n",
       "  Text(2500.0, 0, '')])"
      ]
     },
     "execution_count": 24,
     "metadata": {},
     "output_type": "execute_result"
    },
    {
     "data": {
      "image/png": "[encoded data removed]",
      "text/plain": [
       "<Figure size 432x288 with 1 Axes>"
      ]
     },
     "metadata": {},
     "output_type": "display_data"
    }
   ],
   "source": [
    "# Design a query to retrieve the last 12 months of precipitation data and plot the results. \n",
    "#Starting from the last data point in the database. \n",
    "\n",
    "# Calculate the date one year from the last date in data set.\n",
    "prev_year = dt.date(2017, 8, 23)- dt.timedelta(days=365)\n",
    "\n",
    "# Perform a query to retrieve the data and precipitation scores\n",
    "#results = session.query(Measurement.date, Measurement.prcp)\n",
    "results = session.query(Measurement.date, Measurement.prcp).filter(Measurement.date >= prev_year).all()\n",
    "\n",
    "# Save the query results as a Pandas DataFrame and set the index to the date column\n",
    "df = pd.DataFrame(results, columns=['date','precipitation'])\n",
    "df.set_index(df['date'], inplace=True)\n",
    "#print(df.to_string(index=False))\n",
    "# Sort the dataframe by date\n",
    "#print(df.to_string(index=False))\n",
    "# Use Pandas Plotting with Matplotlib to plot the data\n",
    "df.plot()\n",
    "plt.xticks(rotation=90)"
   ]
  },
  {
   "cell_type": "code",
   "execution_count": 25,
   "metadata": {},
   "outputs": [
    {
     "data": {
      "text/html": [
       "<div>\n",
       "<style scoped>\n",
       "    .dataframe tbody tr th:only-of-type {\n",
       "        vertical-align: middle;\n",
       "    }\n",
       "\n",
       "    .dataframe tbody tr th {\n",
       "        vertical-align: top;\n",
       "    }\n",
       "\n",
       "    .dataframe thead th {\n",
       "        text-align: right;\n",
       "    }\n",
       "</style>\n",
       "<table border=\"1\" class=\"dataframe\">\n",
       "  <thead>\n",
       "    <tr style=\"text-align: right;\">\n",
       "      <th></th>\n",
       "      <th>precipitation</th>\n",
       "    </tr>\n",
       "  </thead>\n",
       "  <tbody>\n",
       "    <tr>\n",
       "      <th>count</th>\n",
       "      <td>2021.000000</td>\n",
       "    </tr>\n",
       "    <tr>\n",
       "      <th>mean</th>\n",
       "      <td>0.177279</td>\n",
       "    </tr>\n",
       "    <tr>\n",
       "      <th>std</th>\n",
       "      <td>0.461190</td>\n",
       "    </tr>\n",
       "    <tr>\n",
       "      <th>min</th>\n",
       "      <td>0.000000</td>\n",
       "    </tr>\n",
       "    <tr>\n",
       "      <th>25%</th>\n",
       "      <td>0.000000</td>\n",
       "    </tr>\n",
       "    <tr>\n",
       "      <th>50%</th>\n",
       "      <td>0.020000</td>\n",
       "    </tr>\n",
       "    <tr>\n",
       "      <th>75%</th>\n",
       "      <td>0.130000</td>\n",
       "    </tr>\n",
       "    <tr>\n",
       "      <th>max</th>\n",
       "      <td>6.700000</td>\n",
       "    </tr>\n",
       "  </tbody>\n",
       "</table>\n",
       "</div>"
      ],
      "text/plain": [
       "       precipitation\n",
       "count    2021.000000\n",
       "mean        0.177279\n",
       "std         0.461190\n",
       "min         0.000000\n",
       "25%         0.000000\n",
       "50%         0.020000\n",
       "75%         0.130000\n",
       "max         6.700000"
      ]
     },
     "execution_count": 25,
     "metadata": {},
     "output_type": "execute_result"
    }
   ],
   "source": [
    "# Use Pandas to calcualte the summary statistics for the precipitation data\n",
    "df.describe()"
   ]
  },
  {
   "cell_type": "code",
   "execution_count": 26,
   "metadata": {},
   "outputs": [
    {
     "data": {
      "text/plain": [
       "[(9,)]"
      ]
     },
     "execution_count": 26,
     "metadata": {},
     "output_type": "execute_result"
    }
   ],
   "source": [
    "# How many stations are available in this dataset? Use session.query()\n",
    "session.query(func.count(Station.station)).all()"
   ]
  },
  {
   "cell_type": "code",
   "execution_count": 29,
   "metadata": {},
   "outputs": [
    {
     "data": {
      "text/plain": [
       "[('USC00519281', 2772),\n",
       " ('USC00519397', 2724),\n",
       " ('USC00513117', 2709),\n",
       " ('USC00519523', 2669),\n",
       " ('USC00516128', 2612),\n",
       " ('USC00514830', 2202),\n",
       " ('USC00511918', 1979),\n",
       " ('USC00517948', 1372),\n",
       " ('USC00518838', 511)]"
      ]
     },
     "execution_count": 29,
     "metadata": {},
     "output_type": "execute_result"
    }
   ],
   "source": [
    "# What are the most active stations?\n",
    "# List the stations and the counts in descending order.\n",
    "session.query(Measurement.station, func.count(Measurement.station)).group_by(Measurement.station).\\\n",
    "order_by(func.count(Measurement.station).desc()).all()"
   ]
  },
  {
   "cell_type": "code",
   "execution_count": 30,
   "metadata": {},
   "outputs": [
    {
     "data": {
      "text/plain": [
       "[(54.0, 85.0, 71.66378066378067)]"
      ]
     },
     "execution_count": 30,
     "metadata": {},
     "output_type": "execute_result"
    }
   ],
   "source": [
    "# Using the station id from the previous query, calculate the lowest temperature recorded, \n",
    "# highest temperature recorded, and average temperature most active station?\n",
    "session.query(func.min(Measurement.tobs), func.max(Measurement.tobs), func.avg(Measurement.tobs)).\\\n",
    "filter(Measurement.station == 'USC00519281').all()"
   ]
  },
  {
   "cell_type": "code",
   "execution_count": 32,
   "metadata": {},
   "outputs": [
    {
     "name": "stdout",
     "output_type": "stream",
     "text": [
      "     tobs\n",
      "0    77.0\n",
      "1    77.0\n",
      "2    80.0\n",
      "3    80.0\n",
      "4    75.0\n",
      "..    ...\n",
      "347  77.0\n",
      "348  77.0\n",
      "349  76.0\n",
      "350  76.0\n",
      "351  79.0\n",
      "\n",
      "[352 rows x 1 columns]\n"
     ]
    }
   ],
   "source": [
    "# Choose the station with the highest number of temperature observations.\n",
    "# Query the last 12 months of temperature observation data for this station and plot the results as a histogram\n",
    "results = session.query(Measurement.tobs).\\\n",
    "filter(Measurement.station == 'USC00519281').\\\n",
    "filter(Measurement.date >= prev_year).all()\n",
    "df = pd.DataFrame(results, columns=['tobs'])\n",
    "print(df)"
   ]
  },
  {
   "cell_type": "code",
   "execution_count": 36,
   "metadata": {},
   "outputs": [
    {
     "data": {
      "image/png": "[encoded data removed]",
      "text/plain": [
       "<Figure size 432x288 with 1 Axes>"
      ]
     },
     "metadata": {},
     "output_type": "display_data"
    }
   ],
   "source": [
    "# Write a function called `calc_temps` that will accept start date and end date in the format '%Y-%m-%d' \n",
    "# and return the minimum, average, and maximum temperatures for that range of dates\n",
    "df.plot.hist(bins=12)\n",
    "plt.tight_layout()"
   ]
  },
  {
   "cell_type": "markdown",
   "metadata": {},
   "source": [
    "# Challenge"
   ]
  },
  {
   "cell_type": "code",
   "execution_count": 12,
   "metadata": {},
   "outputs": [
    {
     "name": "stdout",
     "output_type": "stream",
     "text": [
      "[('2010-06-01', 0.0), ('2010-06-02', 0.01), ('2010-06-03', 0.0), ('2010-06-04', 0.0), ('2010-06-05', 0.0), ('2010-06-06', 0.0), ('2010-06-07', 0.0), ('2010-06-08', 0.0), ('2010-06-09', 0.0), ('2010-06-10', 0.0), ('2010-06-11', 0.0), ('2010-06-12', 0.0), ('2010-06-13', 0.0), ('2010-06-14', 0.0), ('2010-06-15', 0.0), ('2010-06-16', 0.0), ('2010-06-17', 0.0), ('2010-06-18', 0.0), ('2010-06-19', 0.0), ('2010-06-20', 0.0), ('2010-06-21', 0.0), ('2010-06-22', 0.0), ('2010-06-23', 0.0), ('2010-06-24', 0.0), ('2010-06-25', 0.0), ('2010-06-26', 0.02), ('2010-06-27', 0.0), ('2010-06-28', 0.0), ('2010-06-29', 0.0), ('2010-06-30', 0.0), ('2011-06-01', 0.07), ('2011-06-02', 0.0), ('2011-06-03', 0.56), ('2011-06-04', 0.89), ('2011-06-05', 0.0), ('2011-06-06', 0.0), ('2011-06-07', 0.0), ('2011-06-08', 0.03), ('2011-06-09', 0.01), ('2011-06-10', 0.0), ('2011-06-11', 0.0), ('2011-06-12', 0.0), ('2011-06-13', 0.0), ('2011-06-14', 0.0), ('2011-06-15', 0.0), ('2011-06-17', 0.0), ('2011-06-18', 0.0), ('2011-06-19', 0.05), ('2011-06-20', 0.06), ('2011-06-21', 0.07), ('2011-06-24', None), ('2011-06-25', 0.0), ('2011-06-26', 0.0), ('2011-06-27', 0.01), ('2011-06-28', 0.01), ('2011-06-29', 0.0), ('2012-06-01', 0.02), ('2012-06-02', 0.02), ('2012-06-03', 0.0), ('2012-06-04', 0.0), ('2012-06-05', 0.0), ('2012-06-06', 0.0), ('2012-06-07', 0.0), ('2012-06-08', None), ('2012-06-09', None), ('2012-06-10', 0.0), ('2012-06-11', 0.0), ('2012-06-12', 0.0), ('2012-06-13', 0.0), ('2012-06-14', 0.0), ('2012-06-15', 0.0), ('2012-06-16', 0.0), ('2012-06-17', 0.0), ('2012-06-18', 0.0), ('2012-06-19', 0.0), ('2012-06-20', 0.0), ('2012-06-21', 0.0), ('2012-06-22', 0.0), ('2012-06-23', 0.0), ('2012-06-24', 0.0), ('2012-06-25', 0.03), ('2012-06-26', 0.15), ('2012-06-27', 0.01), ('2012-06-28', 0.0), ('2012-06-29', 0.05), ('2012-06-30', 0.0), ('2013-06-01', 0.01), ('2013-06-02', 0.0), ('2013-06-03', 0.0), ('2013-06-04', 0.0), ('2013-06-05', 0.0), ('2013-06-06', 0.0), ('2013-06-07', 0.0), ('2013-06-08', 0.0), ('2013-06-09', 0.0), ('2013-06-10', 0.0), ('2013-06-11', 0.0), ('2013-06-12', 0.0), ('2013-06-13', 0.0), ('2013-06-14', 0.37), ('2013-06-15', 0.0), ('2013-06-16', 0.0), ('2013-06-17', 0.0), ('2013-06-18', 0.01), ('2013-06-19', 0.0), ('2013-06-20', 0.04), ('2013-06-21', 0.12), ('2013-06-22', 0.04), ('2013-06-23', 0.02), ('2013-06-24', 0.35), ('2013-06-25', 0.03), ('2013-06-26', 0.01), ('2013-06-27', 0.0), ('2013-06-28', 0.0), ('2013-06-29', 0.03), ('2013-06-30', 0.01), ('2014-06-01', 0.0), ('2014-06-02', 0.66), ('2014-06-03', 0.01), ('2014-06-04', 0.0), ('2014-06-05', 0.0), ('2014-06-06', 0.0), ('2014-06-07', 0.03), ('2014-06-08', 0.0), ('2014-06-09', 0.0), ('2014-06-10', 0.0), ('2014-06-11', 0.0), ('2014-06-12', 0.0), ('2014-06-13', 0.0), ('2014-06-14', 0.0), ('2014-06-15', 0.01), ('2014-06-16', 0.0), ('2014-06-17', 0.03), ('2014-06-18', 0.15), ('2014-06-19', 0.01), ('2014-06-20', 0.07), ('2014-06-21', 0.01), ('2014-06-22', 0.01), ('2014-06-23', 0.19), ('2014-06-24', 0.0), ('2014-06-25', 0.05), ('2014-06-26', 0.06), ('2014-06-27', 0.04), ('2014-06-28', 0.0), ('2014-06-29', 0.01), ('2014-06-30', 0.02), ('2015-06-01', 0.0), ('2015-06-02', 0.0), ('2015-06-03', 0.0), ('2015-06-04', 0.0), ('2015-06-05', 0.0), ('2015-06-06', 0.0), ('2015-06-07', 0.0), ('2015-06-08', 0.0), ('2015-06-09', 0.0), ('2015-06-10', 0.0), ('2015-06-11', 0.0), ('2015-06-12', 0.0), ('2015-06-13', 0.0), ('2015-06-14', 0.0), ('2015-06-15', 0.0), ('2015-06-16', 0.0), ('2015-06-17', 0.03), ('2015-06-18', 0.0), ('2015-06-19', 0.01), ('2015-06-20', 0.04), ('2015-06-21', 0.0), ('2015-06-22', 0.0), ('2015-06-23', 0.03), ('2015-06-24', 0.03), ('2015-06-25', 0.03), ('2015-06-26', 0.0), ('2015-06-27', 0.0), ('2015-06-28', 0.0), ('2015-06-29', 0.0), ('2015-06-30', 0.0), ('2016-06-01', 0.06), ('2016-06-02', 0.0), ('2016-06-03', 0.0), ('2016-06-04', 0.0), ('2016-06-05', 0.0), ('2016-06-06', 0.0), ('2016-06-07', 0.01), ('2016-06-08', 0.0), ('2016-06-09', 0.01), ('2016-06-10', 0.05), ('2016-06-11', 0.0), ('2016-06-12', 0.01), ('2016-06-13', 0.0), ('2016-06-14', 0.0), ('2016-06-15', 0.01), ('2016-06-16', 0.02), ('2016-06-17', 0.02), ('2016-06-18', 0.0), ('2016-06-19', 0.01), ('2016-06-20', 0.01), ('2016-06-21', 0.0), ('2016-06-22', 0.0), ('2016-06-23', 0.0), ('2016-06-24', 0.01), ('2016-06-25', 0.03), ('2016-06-26', 0.01), ('2016-06-27', 0.01), ('2016-06-28', 0.0), ('2016-06-29', 0.0), ('2016-06-30', 0.0), ('2017-06-01', 0.0), ('2017-06-02', 0.0), ('2017-06-03', 0.02), ('2017-06-04', 0.0), ('2017-06-05', 0.0), ('2017-06-06', 0.0), ('2017-06-07', 0.0), ('2017-06-08', 0.0), ('2017-06-09', 0.0), ('2017-06-10', 0.04), ('2017-06-11', 0.08), ('2017-06-12', 0.02), ('2017-06-13', 0.0), ('2017-06-14', 0.0), ('2017-06-15', 0.0), ('2017-06-16', 0.0), ('2017-06-17', 0.0), ('2017-06-18', 0.05), ('2017-06-19', 0.0), ('2017-06-20', 0.02), ('2017-06-21', 0.0), ('2017-06-22', 0.0), ('2017-06-23', 0.0), ('2017-06-24', 0.06), ('2017-06-25', 0.0), ('2017-06-26', 0.0), ('2017-06-27', 0.0), ('2017-06-28', 0.0), ('2017-06-29', 0.0), ('2017-06-30', 0.08), ('2010-06-01', 0.03), ('2010-06-02', 0.0), ('2010-06-03', 0.0), ('2010-06-04', 0.0), ('2010-06-05', 0.0), ('2010-06-06', 0.0), ('2010-06-07', 0.02), ('2010-06-08', 0.0), ('2010-06-09', 0.0), ('2010-06-10', 0.02), ('2010-06-11', 0.0), ('2010-06-12', 0.0), ('2010-06-13', 0.01), ('2010-06-14', 0.06), ('2010-06-15', 0.0), ('2010-06-16', 0.01), ('2010-06-17', 0.02), ('2010-06-18', 0.06), ('2010-06-19', 0.13), ('2010-06-20', 0.02), ('2010-06-21', 0.01), ('2010-06-22', 0.0), ('2010-06-23', 0.0), ('2010-06-24', 0.01), ('2010-06-25', 0.05), ('2010-06-26', 0.24), ('2010-06-27', 0.03), ('2010-06-28', 0.11), ('2010-06-29', 0.0), ('2010-06-30', 0.03), ('2011-06-01', 0.03), ('2011-06-02', 0.08), ('2011-06-03', 0.63), ('2011-06-04', 4.43), ('2011-06-05', 4.02), ('2011-06-06', 0.02), ('2011-06-07', 0.06), ('2011-06-08', 0.04), ('2011-06-09', 0.01), ('2011-06-10', 0.02), ('2011-06-11', 0.01), ('2011-06-12', 0.12), ('2011-06-13', 0.16), ('2011-06-14', 0.0), ('2011-06-15', 0.0), ('2011-06-16', 0.06), ('2011-06-17', 0.0), ('2011-06-18', 0.02), ('2011-06-19', 0.09), ('2011-06-20', 0.03), ('2011-06-21', 0.54), ('2011-06-22', 0.22), ('2011-06-23', 0.03), ('2011-06-24', 0.21), ('2011-06-25', 0.0), ('2011-06-26', 0.04), ('2011-06-27', 0.03), ('2011-06-28', 0.1), ('2011-06-29', 0.0), ('2011-06-30', 0.0), ('2012-06-01', 0.08), ('2012-06-02', 0.03), ('2012-06-03', 0.0), ('2012-06-04', 0.0), ('2012-06-05', 0.0), ('2012-06-06', 0.03), ('2012-06-07', 0.0), ('2012-06-08', 0.0), ('2012-06-09', 0.0), ('2012-06-10', 0.0), ('2012-06-11', 0.04), ('2012-06-12', 0.02), ('2012-06-13', 0.05), ('2012-06-14', 0.08), ('2012-06-15', 0.0), ('2012-06-16', 0.0), ('2012-06-17', 0.02), ('2012-06-18', 0.0), ('2012-06-19', 0.01), ('2012-06-20', 0.14), ('2012-06-21', 0.02), ('2012-06-22', 0.01), ('2012-06-23', 0.28), ('2012-06-24', 0.27), ('2012-06-25', 0.04), ('2012-06-26', 0.22), ('2012-06-27', 0.23), ('2012-06-28', 0.0), ('2012-06-29', 0.06), ('2012-06-30', 0.0), ('2013-06-01', 0.05), ('2013-06-02', 0.02), ('2013-06-03', 0.02), ('2013-06-04', 0.0), ('2013-06-05', 0.0), ('2013-06-06', 0.03), ('2013-06-07', 0.0), ('2013-06-08', 0.0), ('2013-06-09', 0.0), ('2013-06-10', 0.02), ('2013-06-11', 0.0), ('2013-06-12', 0.0), ('2013-06-13', 0.02), ('2013-06-14', 0.08), ('2013-06-15', 0.01), ('2013-06-16', 0.0), ('2013-06-17', 0.01), ('2013-06-18', 0.02), ('2013-06-19', 0.0), ('2013-06-20', 0.0), ('2013-06-21', 0.22), ('2013-06-22', 0.27), ('2013-06-23', 0.03), ('2013-06-24', 0.02), ('2013-06-25', 0.05), ('2013-06-26', 1.0), ('2013-06-27', 0.1), ('2013-06-28', 0.02), ('2013-06-29', 0.22), ('2013-06-30', 0.01), ('2014-06-01', 0.0), ('2014-06-02', 0.0), ('2014-06-03', 0.0), ('2014-06-04', 0.0), ('2014-06-05', 0.0), ('2014-06-06', 0.13), ('2014-06-07', 0.01), ('2014-06-08', 0.02), ('2014-06-09', 0.02), ('2014-06-10', 0.1), ('2014-06-11', 0.15), ('2014-06-12', 0.0), ('2014-06-13', 0.0), ('2014-06-14', 0.0), ('2014-06-15', 0.01), ('2014-06-16', 0.12), ('2014-06-17', 0.05), ('2014-06-18', 0.07), ('2014-06-19', 0.0), ('2014-06-20', 0.29), ('2014-06-21', 0.06), ('2014-06-22', 0.15), ('2014-06-23', 0.15), ('2014-06-24', 0.1), ('2014-06-25', 0.04), ('2014-06-26', 0.04), ('2014-06-27', 0.02), ('2014-06-28', 0.25), ('2014-06-29', 0.18), ('2014-06-30', 0.03), ('2015-06-03', None), ('2015-06-04', 0.27), ('2015-06-05', 0.0), ('2015-06-06', 0.0), ('2015-06-07', 0.0), ('2015-06-08', 0.1), ('2015-06-09', 0.05), ('2015-06-10', 0.07), ('2015-06-11', 0.1), ('2015-06-12', 0.0), ('2015-06-13', 0.0), ('2015-06-14', 0.07), ('2015-06-15', 0.0), ('2015-06-16', 0.14), ('2015-06-17', 0.25), ('2015-06-18', 0.14), ('2015-06-19', 0.02), ('2015-06-20', 0.04), ('2015-06-21', 0.01), ('2015-06-22', 0.01), ('2015-06-23', 0.03), ('2015-06-24', 0.14), ('2015-06-25', 0.2), ('2015-06-26', 0.1), ('2015-06-27', 0.06), ('2015-06-29', None), ('2016-06-01', 0.89), ('2016-06-02', 0.15), ('2016-06-03', 0.16), ('2016-06-04', 0.0), ('2016-06-05', 0.63), ('2016-06-06', 0.36), ('2016-06-07', 0.4), ('2016-06-08', 0.0), ('2016-06-09', 0.21), ('2016-06-10', 0.06), ('2016-06-11', 0.02), ('2016-06-12', 0.04), ('2016-06-13', 0.08), ('2016-06-14', 0.06), ('2016-06-15', 0.18), ('2016-06-16', 0.03), ('2016-06-17', 0.16), ('2016-06-18', 0.3), ('2016-06-19', 0.02), ('2016-06-20', 0.16), ('2016-06-21', 0.03), ('2016-06-22', 0.01), ('2016-06-23', 0.25), ('2016-06-24', 0.02), ('2016-06-25', 0.8), ('2016-06-26', 0.06), ('2016-06-27', 0.06), ('2016-06-28', 0.02), ('2016-06-29', 0.03), ('2016-06-30', 0.0), ('2017-06-01', 0.03), ('2017-06-02', 0.1), ('2017-06-03', 0.2), ('2017-06-04', 0.15), ('2017-06-05', 0.0), ('2017-06-06', 0.0), ('2017-06-07', 0.0), ('2017-06-08', 0.02), ('2017-06-09', 0.02), ('2017-06-10', 0.21), ('2017-06-11', 0.24), ('2017-06-12', 0.19), ('2017-06-13', 0.36), ('2017-06-14', 0.27), ('2017-06-15', 0.17), ('2017-06-16', 0.02), ('2017-06-17', 0.35), ('2017-06-18', 0.25), ('2017-06-19', 0.05), ('2017-06-20', 0.05), ('2017-06-21', 0.02), ('2017-06-22', 0.1), ('2017-06-23', 0.0), ('2017-06-24', 0.0), ('2017-06-25', 0.08), ('2017-06-26', 0.02), ('2017-06-27', 0.0), ('2017-06-28', 0.01), ('2017-06-29', 0.03), ('2017-06-30', 0.04), ('2010-06-01', 0.01), ('2010-06-02', 0.0), ('2010-06-03', 0.0), ('2010-06-04', 0.0), ('2010-06-05', 0.0), ('2010-06-06', 0.0), ('2010-06-07', 0.09), ('2010-06-08', 0.0), ('2010-06-09', 0.0), ('2010-06-10', 0.0), ('2010-06-11', 0.0), ('2010-06-12', 0.03), ('2010-06-13', 0.0), ('2010-06-14', 0.06), ('2010-06-15', 0.03), ('2010-06-16', 0.0), ('2010-06-17', 0.0), ('2010-06-18', 0.03), ('2010-06-19', 0.04), ('2010-06-20', 0.0), ('2010-06-21', 0.0), ('2010-06-22', 0.0), ('2010-06-23', 0.0), ('2010-06-24', 0.05), ('2010-06-25', 0.12), ('2010-06-27', None), ('2010-06-28', 0.18), ('2010-06-29', 0.06), ('2010-06-30', 0.03), ('2011-06-01', 0.19), ('2011-06-02', 0.04), ('2011-06-03', 1.75), ('2011-06-04', 1.14), ('2011-06-05', 3.6), ('2011-06-06', 0.0), ('2011-06-07', 0.05), ('2011-06-08', 0.17), ('2011-06-09', 0.0), ('2011-06-10', 0.02), ('2011-06-13', None), ('2011-06-14', 0.02), ('2011-06-15', 0.0), ('2011-06-16', 0.13), ('2011-06-17', 0.0), ('2011-06-18', 0.0), ('2011-06-19', 0.12), ('2011-06-21', None), ('2011-06-22', 0.2), ('2011-06-23', 0.09), ('2011-06-24', 0.17), ('2011-06-25', 0.03), ('2011-06-27', None), ('2011-06-28', 0.12), ('2012-06-21', 0.08), ('2012-06-22', 0.01), ('2012-06-24', None), ('2012-06-25', 0.12), ('2012-06-26', 0.03), ('2012-06-27', 0.2), ('2012-06-28', 0.0), ('2012-06-29', 0.23), ('2012-06-30', 0.02), ('2013-06-03', None), ('2013-06-04', 0.0), ('2013-06-05', 0.0), ('2013-06-06', 0.0), ('2013-06-07', 0.01), ('2013-06-08', 0.0), ('2013-06-09', 0.01), ('2013-06-10', 0.0), ('2013-06-11', 0.0), ('2013-06-12', 0.04), ('2013-06-13', 0.08), ('2013-06-14', 0.03), ('2013-06-16', None), ('2013-06-17', 0.04), ('2013-06-18', 0.04), ('2013-06-19', 0.08), ('2013-06-20', 0.01), ('2013-06-25', None), ('2013-06-26', 0.17), ('2013-06-27', 0.0), ('2014-06-01', None), ('2014-06-02', 0.02), ('2014-06-03', 0.0), ('2014-06-04', 0.0), ('2014-06-05', 0.0), ('2014-06-06', 0.13), ('2014-06-07', 0.04), ('2014-06-09', None), ('2014-06-10', 0.16), ('2014-06-11', 0.17), ('2014-06-12', 0.0), ('2014-06-13', 0.0), ('2014-06-14', 0.0), ('2014-06-16', None), ('2014-06-17', 0.39), ('2014-06-18', 0.08), ('2014-06-19', 0.14), ('2014-06-20', 0.07), ('2014-06-21', 0.11), ('2014-06-23', None), ('2014-06-24', 0.03), ('2014-06-25', 0.1), ('2014-06-26', 0.08), ('2014-06-27', 0.08), ('2014-06-29', None), ('2014-06-30', 0.04), ('2015-06-01', 0.05), ('2015-06-03', 0.0), ('2015-06-04', 0.22), ('2015-06-05', 0.0), ('2015-06-06', 0.0), ('2015-06-08', None), ('2015-06-09', 0.0), ('2015-06-10', 0.0), ('2015-06-11', 0.0), ('2015-06-12', 0.03), ('2015-06-14', None), ('2015-06-15', 0.0), ('2015-06-16', 0.0), ('2015-06-17', 0.16), ('2015-06-18', 0.04), ('2015-06-19', 0.02), ('2015-06-20', 0.06), ('2015-06-21', 0.0), ('2015-06-22', 0.04), ('2015-06-23', 0.02), ('2015-06-24', 0.01), ('2015-06-25', 0.2), ('2015-06-26', 0.11), ('2015-06-27', 0.09), ('2015-06-28', 0.0), ('2015-06-29', 0.11), ('2015-06-30', 1.1), ('2016-06-01', 0.22), ('2016-06-02', 0.35), ('2016-06-03', 0.02), ('2016-06-07', None), ('2016-06-08', 0.0), ('2016-06-09', 0.12), ('2016-06-10', 0.13), ('2016-06-11', 0.01), ('2016-06-12', 0.26), ('2016-06-13', 0.01), ('2016-06-14', 0.0), ('2016-06-15', 0.18), ('2016-06-16', 0.06), ('2016-06-17', 0.17), ('2016-06-18', 0.03), ('2016-06-19', 0.03), ('2016-06-20', 0.47), ('2016-06-21', 0.0), ('2016-06-22', 0.08), ('2016-06-23', 0.1), ('2016-06-24', 0.03), ('2016-06-25', 0.44), ('2016-06-26', 0.03), ('2016-06-27', 0.0), ('2016-06-28', 0.0), ('2016-06-29', 0.06), ('2016-06-30', 0.0), ('2017-06-01', 0.0), ('2017-06-02', 0.15), ('2017-06-03', 0.16), ('2017-06-04', 0.05), ('2017-06-05', 0.02), ('2017-06-06', 0.0), ('2017-06-07', 0.0), ('2017-06-08', 0.01), ('2017-06-09', 0.0), ('2017-06-10', 0.53), ('2017-06-11', 0.14), ('2017-06-12', 0.35), ('2017-06-13', 0.1), ('2017-06-14', 0.21), ('2017-06-15', 0.3), ('2017-06-16', 0.02), ('2017-06-17', 0.02), ('2017-06-18', 0.18), ('2017-06-19', 0.19), ('2017-06-20', 0.17), ('2017-06-23', None), ('2017-06-26', None), ('2017-06-29', None), ('2017-06-30', 0.0), ('2010-06-01', 0.0), ('2010-06-02', 0.0), ('2010-06-03', 0.14), ('2010-06-04', 0.0), ('2010-06-07', 0.0), ('2010-06-08', 0.0), ('2010-06-09', 0.0), ('2010-06-10', 0.0), ('2010-06-15', 0.0), ('2010-06-16', 0.0), ('2010-06-17', 0.0), ('2010-06-18', 0.05), ('2010-06-21', 0.0), ('2010-06-22', 0.02), ('2010-06-23', 0.0), ('2010-06-24', 0.02), ('2010-06-25', 0.1), ('2010-06-28', 0.0), ('2010-06-29', 0.0), ('2010-06-30', 0.0), ('2011-06-01', None), ('2011-06-02', 0.0), ('2011-06-03', 1.71), ('2011-06-06', 0.0), ('2011-06-07', 0.0), ('2011-06-08', 0.05), ('2011-06-09', 0.0), ('2011-06-13', 0.0), ('2011-06-14', 0.0), ('2011-06-15', None), ('2011-06-16', None), ('2011-06-17', None), ('2011-06-20', None), ('2011-06-21', 0.25), ('2011-06-22', 0.08), ('2011-06-23', 0.22), ('2011-06-24', 0.1), ('2011-06-27', None), ('2011-06-28', None), ('2011-06-29', None), ('2011-06-30', 0.0), ('2012-06-01', 0.04), ('2012-06-04', None), ('2012-06-05', 0.0), ('2012-06-06', None), ('2012-06-07', None), ('2012-06-08', 0.0), ('2012-06-12', None), ('2012-06-13', 0.0), ('2012-06-14', 0.25), ('2012-06-15', None), ('2012-06-18', None), ('2012-06-19', 0.02), ('2012-06-20', 0.05), ('2012-06-21', 0.0), ('2012-06-22', 0.0), ('2012-06-25', None), ('2012-06-26', None), ('2012-06-27', None), ('2012-06-28', 0.0), ('2012-06-29', 0.0), ('2013-06-03', None), ('2013-06-04', None), ('2013-06-05', 0.02), ('2013-06-06', 0.0), ('2013-06-07', 0.0), ('2013-06-10', 0.0), ('2013-06-12', None), ('2013-06-13', None), ('2013-06-14', None), ('2013-06-17', None), ('2013-06-18', 0.08), ('2013-06-19', 0.0), ('2013-06-20', 0.04), ('2013-06-21', 0.08), ('2013-06-25', None), ('2013-06-26', None), ('2013-06-27', 0.01), ('2013-06-28', None), ('2014-06-02', None), ('2014-06-03', 0.0), ('2014-06-04', None), ('2014-06-05', None), ('2014-06-06', None), ('2014-06-09', None), ('2014-06-10', 0.0), ('2014-06-12', None), ('2014-06-13', 0.0), ('2014-06-16', None), ('2014-06-17', 0.2), ('2014-06-18', 0.0), ('2014-06-19', 0.01), ('2014-06-20', 0.14), ('2014-06-27', 0.0), ('2015-06-10', 0.04), ('2015-06-12', 0.0), ('2015-06-15', None), ('2015-06-16', 0.0), ('2015-06-17', 0.01), ('2015-06-18', 0.0), ('2015-06-19', 0.0), ('2015-06-22', None), ('2015-06-23', 0.04), ('2015-06-24', 0.09), ('2015-06-25', None), ('2015-06-29', None), ('2015-06-30', None), ('2016-06-01', None), ('2016-06-02', None), ('2016-06-03', None), ('2016-06-06', None), ('2016-06-07', None), ('2016-06-08', None), ('2016-06-09', None), ('2016-06-13', None), ('2016-06-14', None), ('2016-06-15', 0.02), ('2016-06-16', 0.1), ('2016-06-17', 0.38), ('2016-06-20', 0.1), ('2016-06-21', None), ('2016-06-22', None), ('2016-06-23', None), ('2016-06-24', None), ('2016-06-27', None), ('2016-06-28', None), ('2016-06-29', None), ('2016-06-30', None), ('2017-06-02', None), ('2017-06-05', None), ('2017-06-06', None), ('2017-06-07', None), ('2017-06-08', None), ('2017-06-09', None), ('2017-06-13', None), ('2017-06-14', None), ('2017-06-15', None), ('2017-06-16', None), ('2017-06-19', None), ('2017-06-20', None), ('2017-06-21', None), ('2017-06-22', 0.0), ('2017-06-23', 0.0), ('2017-06-26', None), ('2017-06-27', 0.0), ('2017-06-28', 0.0), ('2017-06-29', 0.0), ('2017-06-30', 0.12), ('2010-06-01', None), ('2010-06-02', 0.03), ('2010-06-03', 0.0), ('2010-06-04', 0.0), ('2010-06-05', 0.0), ('2010-06-06', 0.0), ('2010-06-09', None), ('2010-06-10', 0.0), ('2010-06-11', 0.0), ('2010-06-12', 0.0), ('2010-06-13', 0.01), ('2010-06-15', None), ('2010-06-17', 0.0), ('2010-06-18', 0.3), ('2010-06-19', 0.02), ('2010-06-20', 0.03), ('2010-06-22', None), ('2010-06-23', 0.11), ('2010-06-24', 0.28), ('2010-06-25', 0.3), ('2010-06-28', None), ('2010-06-29', 0.1), ('2010-06-30', 0.04), ('2011-06-08', None), ('2011-06-09', 0.04), ('2011-06-12', None), ('2011-06-13', 0.08), ('2011-06-14', 0.09), ('2011-06-15', 0.06), ('2011-06-16', 0.07), ('2011-06-20', None), ('2011-06-21', 0.05), ('2011-06-22', 0.82), ('2012-06-01', 0.03), ('2012-06-14', None), ('2012-06-21', None), ('2012-06-26', None), ('2012-06-29', None), ('2010-06-01', 0.03), ('2010-06-02', 0.0), ('2010-06-03', 0.0), ('2010-06-04', 0.0), ('2010-06-05', 0.0), ('2010-06-06', 0.0), ('2010-06-07', 0.0), ('2010-06-08', 0.01), ('2010-06-09', 0.0), ('2010-06-10', 0.0), ('2010-06-11', 0.0), ('2010-06-12', 0.0), ('2010-06-13', 0.0), ('2010-06-14', 0.0), ('2010-06-15', 0.0), ('2010-06-16', 0.0), ('2010-06-17', 0.0), ('2010-06-18', 0.14), ('2010-06-19', 0.0), ('2010-06-20', 0.0), ('2010-06-21', 0.0), ('2010-06-22', 0.0), ('2010-06-23', 0.0), ('2010-06-24', 0.0), ('2010-06-25', 0.08), ('2010-06-26', 0.08), ('2010-06-28', 0.0), ('2010-06-29', 0.0), ('2010-06-30', 0.0), ('2011-06-01', 0.15), ('2011-06-02', 0.01), ('2011-06-03', 0.09), ('2011-06-04', 0.51), ('2011-06-05', 0.25), ('2011-06-06', 0.03), ('2011-06-07', 0.03), ('2011-06-08', 0.0), ('2011-06-09', 0.0), ('2011-06-10', 0.0), ('2011-06-11', 0.0), ('2011-06-12', 0.09), ('2011-06-13', 0.0), ('2011-06-14', 0.0), ('2011-06-15', 0.0), ('2011-06-16', 0.09), ('2011-06-17', 0.0), ('2011-06-18', 0.0), ('2011-06-19', 0.17), ('2011-06-20', 0.14), ('2011-06-21', 0.38), ('2011-06-22', 0.17), ('2011-06-23', 0.05), ('2011-06-24', 0.03), ('2011-06-25', 0.0), ('2011-06-26', 0.12), ('2011-06-27', 0.02), ('2011-06-28', 0.02), ('2011-06-29', 0.0), ('2011-06-30', 0.0), ('2012-06-01', 0.0), ('2012-06-02', 0.0), ('2012-06-03', 0.0), ('2012-06-04', 0.0), ('2012-06-05', 0.0), ('2012-06-06', 0.12), ('2012-06-07', 0.0), ('2012-06-08', 0.0), ('2012-06-09', 0.0), ('2012-06-10', 0.0), ('2012-06-11', 0.0), ('2012-06-12', 0.01), ('2012-06-13', 0.01), ('2012-06-14', 0.0), ('2012-06-15', 0.0), ('2012-06-16', 0.0), ('2012-06-17', 0.0), ('2012-06-18', 0.0), ('2012-06-19', 0.25), ('2012-06-20', 0.25), ('2012-06-21', 0.0), ('2012-06-22', 0.0), ('2012-06-23', 0.1), ('2012-06-24', 0.0), ('2012-06-25', 0.51), ('2012-06-26', 0.19), ('2012-06-27', 0.15), ('2012-06-28', 0.0), ('2012-06-29', 0.06), ('2012-06-30', 0.0), ('2013-06-01', 0.0), ('2013-06-02', 0.08), ('2013-06-03', 0.02), ('2013-06-04', 0.0), ('2013-06-05', 0.0), ('2013-06-06', 0.0), ('2013-06-07', 0.07), ('2013-06-08', 0.0), ('2013-06-09', 0.0), ('2013-06-10', 0.0), ('2013-06-11', 0.0), ('2013-06-12', 0.0), ('2013-06-13', 0.0), ('2013-06-14', 0.28), ('2013-06-15', 0.0), ('2013-06-16', 0.0), ('2013-06-17', 0.0), ('2013-06-18', 0.0), ('2013-06-19', 0.0), ('2013-06-20', 0.07), ('2013-06-21', 0.32), ('2013-06-22', 0.13), ('2013-06-23', 0.08), ('2013-06-24', 0.01), ('2013-06-25', 0.18), ('2013-06-26', 0.42), ('2013-06-27', 0.02), ('2013-06-29', 0.05), ('2013-06-30', 0.0), ('2014-06-01', 0.0), ('2014-06-02', 0.1), ('2014-06-04', None), ('2014-06-05', 0.0), ('2014-06-06', 0.0), ('2014-06-07', 0.0), ('2014-06-08', 0.0), ('2014-06-09', 0.0), ('2014-06-10', 0.0), ('2014-06-11', 0.13), ('2014-06-12', 0.0), ('2014-06-13', 0.0), ('2014-06-14', 0.0), ('2014-06-15', 0.0), ('2014-06-16', 0.0), ('2014-06-18', None), ('2014-06-19', 0.0), ('2014-06-20', 0.51), ('2014-06-21', 0.0), ('2014-06-22', 0.01), ('2014-06-23', 0.23), ('2014-06-24', 0.01), ('2014-06-25', 0.07), ('2014-06-26', 0.1), ('2014-06-28', None), ('2014-06-29', 0.01), ('2014-06-30', 0.07), ('2015-06-01', 0.13), ('2015-06-02', 0.0), ('2015-06-03', 0.0), ('2015-06-04', 0.07), ('2015-06-05', 0.01), ('2015-06-06', 0.0), ('2015-06-07', 0.0), ('2015-06-08', 0.01), ('2015-06-09', 0.01), ('2015-06-10', 0.0), ('2015-06-11', 0.0), ('2015-06-12', 0.0), ('2015-06-13', 0.0), ('2015-06-14', 0.0), ('2015-06-15', 0.0), ('2015-06-16', 0.0), ('2015-06-17', 0.05), ('2015-06-18', 0.18), ('2015-06-19', 0.0), ('2015-06-20', 0.0), ('2015-06-21', 0.0), ('2015-06-22', 0.0), ('2015-06-23', 0.05), ('2015-06-24', 0.0), ('2015-06-25', 0.14), ('2015-06-26', 0.0), ('2015-06-27', 0.0), ('2015-06-29', None), ('2015-06-30', 0.0), ('2016-06-01', 0.38), ('2016-06-02', 0.03), ('2016-06-03', 0.47), ('2016-06-04', 0.02), ('2016-06-05', 0.14), ('2016-06-06', 0.17), ('2016-06-07', 0.07), ('2016-06-08', 0.0), ('2016-06-09', 0.15), ('2016-06-10', 0.23), ('2016-06-11', 0.0), ('2016-06-12', 0.12), ('2016-06-13', 0.1), ('2016-06-14', 0.0), ('2016-06-15', 0.25), ('2016-06-17', None), ('2016-06-18', 0.0), ('2016-06-19', 0.06), ('2016-06-20', 0.03), ('2016-06-21', 0.03), ('2016-06-22', 0.0), ('2016-06-23', 0.0), ('2016-06-24', 0.0), ('2016-06-25', 0.21), ('2016-06-26', 0.0), ('2016-06-27', 0.0), ('2016-06-28', 0.0), ('2016-06-29', 0.0), ('2016-06-30', 0.0), ('2017-06-01', 0.0), ('2017-06-02', 0.0), ('2017-06-03', 0.15), ('2017-06-04', 0.0), ('2017-06-05', 0.0), ('2017-06-06', 0.0), ('2017-06-07', 0.0), ('2017-06-08', 0.0), ('2017-06-09', 0.0), ('2017-06-10', 0.13), ('2017-06-11', 0.25), ('2017-06-12', 0.14), ('2017-06-13', 0.03), ('2017-06-14', 0.06), ('2017-06-15', 0.0), ('2017-06-16', 0.0), ('2017-06-17', 0.0), ('2017-06-18', 0.0), ('2017-06-19', 0.01), ('2017-06-21', None), ('2017-06-22', 0.0), ('2017-06-23', 0.05), ('2017-06-24', 0.0), ('2017-06-25', 0.0), ('2017-06-26', 0.0), ('2017-06-27', 0.0), ('2017-06-28', 0.0), ('2017-06-29', 0.0), ('2017-06-30', 0.07), ('2010-06-01', 0.0), ('2010-06-02', 0.03), ('2010-06-03', 0.0), ('2010-06-04', 0.0), ('2010-06-05', 0.0), ('2010-06-06', 0.0), ('2010-06-07', 0.12), ('2010-06-08', 0.0), ('2010-06-09', 0.0), ('2010-06-10', 0.0), ('2010-06-11', 0.0), ('2010-06-12', 0.0), ('2010-06-13', 0.04), ('2010-06-14', 0.06), ('2010-06-15', 0.11), ('2010-06-16', 0.0), ('2010-06-17', 0.02), ('2010-06-18', 0.19), ('2010-06-19', 0.33), ('2010-06-20', 0.0), ('2010-06-21', 0.0), ('2010-06-22', 0.0), ('2010-06-23', 0.02), ('2010-06-24', 0.07), ('2010-06-25', 0.09), ('2010-06-26', 0.41), ('2010-06-27', 0.05), ('2010-06-28', 0.0), ('2010-06-29', 0.05), ('2010-06-30', 0.0), ('2011-06-01', 0.22), ('2011-06-02', 0.42), ('2011-06-03', 0.33), ('2011-06-08', 0.03), ('2011-06-09', 0.05), ('2011-06-10', 0.03), ('2011-06-11', 0.03), ('2011-06-12', 0.32), ('2011-06-13', 0.05), ('2011-06-14', 0.16), ('2011-06-15', 0.0), ('2011-06-16', 0.06), ('2011-06-17', 0.03), ('2011-06-18', 0.01), ('2011-06-19', 0.14), ('2011-06-20', 0.05), ('2011-06-21', 0.57), ('2011-06-22', 0.61), ('2011-06-23', 0.06), ('2011-06-24', 0.81), ('2011-06-25', 0.01), ('2011-06-26', 0.11), ('2011-06-27', 0.09), ('2011-06-28', 0.12), ('2011-06-29', 0.08), ('2011-06-30', 0.03), ('2012-06-01', 0.02), ('2012-06-02', 0.08), ('2012-06-03', 0.0), ('2012-06-04', 0.0), ('2012-06-05', 0.0), ('2012-06-06', 0.1), ('2012-06-07', 0.07), ('2012-06-08', 0.01), ('2012-06-09', 0.0), ('2012-06-10', 0.0), ('2012-06-11', 0.11), ('2012-06-12', 0.16), ('2012-06-13', 0.07), ('2012-06-14', 0.21), ('2012-06-15', 0.0), ('2012-06-16', 0.0), ('2012-06-17', 0.02), ('2012-06-18', 0.0), ('2012-06-19', 0.02), ('2012-06-20', 0.33), ('2012-06-21', 0.26), ('2012-06-22', 0.03), ('2012-06-23', 0.35), ('2012-06-24', 0.14), ('2012-06-25', 0.13), ('2012-06-26', 0.22), ('2012-06-27', 0.43), ('2012-06-28', 0.01), ('2012-06-29', 0.14), ('2012-06-30', 0.01), ('2013-06-01', 0.06), ('2013-06-02', 0.17), ('2013-06-03', 0.08), ('2013-06-04', 0.0), ('2013-06-05', 0.0), ('2013-06-06', 0.0), ('2013-06-07', 0.0), ('2013-06-08', 0.0), ('2013-06-09', 0.0), ('2013-06-10', 0.01), ('2013-06-11', 0.02), ('2013-06-12', 0.0), ('2013-06-13', 0.1), ('2013-06-14', 0.16), ('2013-06-15', 0.1), ('2013-06-16', 0.03), ('2013-06-17', 0.05), ('2013-06-18', 0.04), ('2013-06-19', 0.01), ('2013-06-20', 0.02), ('2013-06-21', 0.53), ('2013-06-22', 0.88), ('2013-06-23', 0.03), ('2013-06-24', 0.22), ('2013-06-25', 0.36), ('2013-06-26', 0.82), ('2013-06-27', 0.07), ('2013-06-28', 0.04), ('2013-06-29', 0.43), ('2013-06-30', 0.71), ('2014-06-01', 0.07), ('2014-06-02', 0.06), ('2014-06-03', 0.0), ('2014-06-04', 0.01), ('2014-06-05', 0.01), ('2014-06-06', 0.19), ('2014-06-07', 0.2), ('2014-06-08', 0.18), ('2014-06-09', 0.04), ('2014-06-10', 0.22), ('2014-06-11', 0.37), ('2014-06-12', 0.02), ('2014-06-13', 0.0), ('2014-06-14', 0.02), ('2014-06-15', 0.02), ('2014-06-16', 0.03), ('2014-06-17', 0.29), ('2014-06-18', 0.17), ('2014-06-19', 0.04), ('2014-06-20', 0.16), ('2014-06-21', 0.22), ('2014-06-22', 0.04), ('2014-06-23', 0.31), ('2014-06-24', 0.08), ('2014-06-25', 0.23), ('2014-06-26', 0.31), ('2014-06-27', 0.12), ('2014-06-28', 0.6), ('2014-06-29', 0.48), ('2014-06-30', 0.01), ('2015-06-01', 0.46), ('2015-06-02', 0.02), ('2015-06-03', 0.0), ('2015-06-04', 1.24), ('2015-06-05', 0.06), ('2015-06-06', 0.0), ('2015-06-07', 0.07), ('2015-06-08', 0.01), ('2015-06-09', 0.34), ('2015-06-10', 0.03), ('2015-06-11', 0.03), ('2015-06-12', 0.08), ('2015-06-13', 0.01), ('2015-06-14', 0.05), ('2015-06-15', 0.03), ('2015-06-16', 0.01), ('2015-06-17', 0.15), ('2015-06-18', 0.45), ('2015-06-19', 0.19), ('2015-06-20', 0.13), ('2015-06-21', 0.05), ('2015-06-22', 0.05), ('2015-06-23', 0.03), ('2015-06-24', 0.17), ('2015-06-25', 0.21), ('2015-06-26', 0.02), ('2015-06-27', 0.21), ('2015-06-28', 0.02), ('2015-06-29', 0.27), ('2015-06-30', 0.16), ('2016-06-01', 1.39), ('2016-06-02', 0.5), ('2016-06-03', 0.02), ('2016-06-04', 0.0), ('2016-06-05', 0.22), ('2016-06-06', 0.52), ('2016-06-07', 0.35), ('2016-06-08', 0.0), ('2016-06-09', 0.29), ('2016-06-10', 0.62), ('2016-06-11', 0.13), ('2016-06-12', 0.28), ('2016-06-13', 0.02), ('2016-06-14', 0.2), ('2016-06-15', 0.68), ('2016-06-16', 0.05), ('2016-06-17', 0.29), ('2016-06-18', 0.4), ('2016-06-19', 0.05), ('2016-06-20', 0.4), ('2016-06-21', 0.04), ('2016-06-22', 0.13), ('2016-06-23', 0.39), ('2016-06-24', 0.12), ('2016-06-25', 0.75), ('2016-06-26', 0.03), ('2016-06-27', 0.37), ('2016-06-28', 0.23), ('2016-06-29', 0.1), ('2016-06-30', 0.01), ('2017-06-01', 0.0), ('2017-06-02', 0.09), ('2017-06-03', 0.08), ('2017-06-04', 0.13), ('2017-06-05', 0.05), ('2017-06-06', 0.0), ('2017-06-07', 0.0), ('2017-06-08', 0.0), ('2017-06-09', 0.02), ('2017-06-10', 0.62), ('2017-06-11', 0.74), ('2017-06-12', 0.24), ('2017-06-13', 0.24), ('2017-06-14', 0.22), ('2017-06-15', 0.55), ('2017-06-16', 0.06), ('2017-06-17', 0.07), ('2017-06-18', 0.24), ('2017-06-19', 0.08), ('2017-06-20', 0.0), ('2017-06-21', 0.19), ('2017-06-22', 0.06), ('2017-06-23', 0.12), ('2017-06-24', 0.36), ('2017-06-25', 0.02), ('2017-06-26', 0.06), ('2017-06-27', 0.01), ('2017-06-28', 0.0), ('2017-06-29', 0.0), ('2017-06-30', 0.01), ('2010-06-01', 0.0), ('2010-06-02', 0.0), ('2010-06-03', 0.0), ('2010-06-04', 0.0), ('2010-06-05', 0.0), ('2010-06-06', 0.0), ('2010-06-07', 0.05), ('2010-06-08', 0.0), ('2010-06-09', 0.0), ('2010-06-10', 0.0), ('2010-06-11', 0.0), ('2010-06-12', 0.0), ('2010-06-14', 0.0), ('2010-06-15', 0.0), ('2010-06-16', 0.0), ('2010-06-17', 0.0), ('2010-06-18', 0.04), ('2010-06-19', 0.05), ('2010-06-20', 0.0), ('2010-06-21', 0.0), ('2010-06-22', 0.0), ('2010-06-23', 0.0), ('2010-06-24', 0.0), ('2010-06-25', 0.02), ('2010-06-26', 0.0), ('2010-06-27', 0.09), ('2010-06-28', 0.0), ('2010-06-29', 0.02), ('2010-06-30', 0.03), ('2011-06-01', 0.02), ('2011-06-02', 0.0), ('2011-06-03', 0.03), ('2011-06-04', 0.58), ('2011-06-05', 0.02), ('2011-06-06', 0.0), ('2011-06-07', 0.0), ('2011-06-08', 0.1), ('2011-06-09', 0.0), ('2011-06-10', 0.0), ('2011-06-11', 0.0), ('2011-06-12', 0.02), ('2011-06-13', 0.0), ('2011-06-14', 0.0), ('2011-06-15', 0.0), ('2011-06-16', 0.01), ('2011-06-17', 0.0), ('2011-06-18', 0.0), ('2011-06-19', 0.0), ('2011-06-20', 0.01), ('2011-06-21', 0.03), ('2011-06-22', 0.1), ('2011-06-23', 0.01), ('2011-06-24', 0.0), ('2011-06-25', 0.0), ('2011-06-26', 0.0), ('2011-06-27', 0.0), ('2011-06-28', 0.0), ('2011-06-29', 0.0), ('2011-06-30', 0.0), ('2012-06-01', 0.01), ('2012-06-02', 0.02), ('2012-06-03', 0.0), ('2012-06-04', 0.0), ('2012-06-05', 0.0), ('2012-06-06', 0.01), ('2012-06-07', 0.0), ('2012-06-08', 0.0), ('2012-06-09', 0.0), ('2012-06-10', 0.0), ('2012-06-11', 0.0), ('2012-06-12', 0.0), ('2012-06-13', 0.03), ('2012-06-14', 0.0), ('2012-06-16', None), ('2012-06-17', 0.0), ('2012-06-18', 0.0), ('2012-06-19', 0.0), ('2012-06-20', 0.02), ('2012-06-21', 0.0), ('2012-06-22', 0.0), ('2012-06-23', 0.1), ('2012-06-24', 0.0), ('2012-06-25', 0.01), ('2012-06-26', 0.0), ('2012-06-27', 0.01), ('2012-06-28', 0.0), ('2012-06-29', 0.0), ('2012-06-30', 0.0), ('2013-06-01', 0.0), ('2013-06-02', 0.0), ('2013-06-03', 0.0), ('2013-06-04', 0.0), ('2013-06-05', 0.0), ('2013-06-06', 0.0), ('2013-06-07', 0.0), ('2013-06-08', 0.0), ('2013-06-09', 0.0), ('2013-06-10', 0.0), ('2013-06-11', 0.0), ('2013-06-12', 0.0), ('2013-06-13', 0.0), ('2013-06-14', 0.07), ('2013-06-15', 0.0), ('2013-06-16', 0.0), ('2013-06-17', 0.0), ('2013-06-18', 0.0), ('2013-06-19', 0.0), ('2013-06-20', 0.0), ('2013-06-21', 0.05), ('2013-06-22', 0.0), ('2013-06-23', 0.0), ('2013-06-24', 0.0), ('2013-06-25', 0.02), ('2013-06-26', 0.06), ('2013-06-27', 0.0), ('2013-06-28', 0.0), ('2013-06-29', 0.08), ('2013-06-30', 0.0), ('2014-06-01', 0.0), ('2014-06-02', 0.0), ('2014-06-03', 0.0), ('2014-06-04', 0.0), ('2014-06-06', None), ('2014-06-07', 0.0), ('2014-06-08', 0.0), ('2014-06-09', 0.0), ('2014-06-10', 0.0), ('2014-06-11', 0.0), ('2014-06-12', 0.0), ('2014-06-13', 0.0), ('2014-06-14', 0.0), ('2014-06-15', 0.0), ('2014-06-16', 0.0), ('2014-06-17', 0.17), ('2014-06-18', 0.01), ('2014-06-19', 0.0), ('2014-06-20', 0.03), ('2014-06-21', 0.0), ('2014-06-22', 0.0), ('2014-06-23', 0.05), ('2014-06-24', 0.05), ('2014-06-25', 0.05), ('2014-06-26', 0.03), ('2014-06-27', 0.02), ('2014-06-29', 0.05), ('2014-06-30', 0.0), ('2015-06-01', 0.01), ('2015-06-02', 0.0), ('2015-06-03', 0.0), ('2015-06-04', 0.0), ('2015-06-05', 0.0), ('2015-06-08', None), ('2015-06-09', 0.0), ('2015-06-11', None), ('2015-06-12', 0.0), ('2015-06-15', None), ('2015-06-16', 0.2), ('2015-06-17', 0.0), ('2015-06-18', 0.0), ('2015-06-19', 0.0), ('2015-06-22', None), ('2015-06-23', 0.0), ('2015-06-24', 0.0), ('2015-06-25', 0.01), ('2015-06-26', 0.01), ('2010-06-01', 0.08), ('2010-06-02', 0.0), ('2010-06-03', 0.1), ('2010-06-04', 0.01), ('2010-06-05', 0.09), ('2010-06-06', 0.13), ('2010-06-07', 0.44), ('2010-06-08', 0.27), ('2010-06-09', 0.0), ('2010-06-14', None), ('2010-06-16', None), ('2010-06-17', 0.05), ('2010-06-19', None), ('2010-06-22', None), ('2010-06-23', 0.04), ('2010-06-24', 0.26), ('2010-06-25', 0.79), ('2010-06-26', 0.88), ('2010-06-27', 0.37), ('2010-06-28', 0.16), ('2010-06-29', 0.02), ('2010-06-30', 0.71), ('2011-06-01', 0.61), ('2011-06-02', 0.22), ('2011-06-03', 2.0), ('2011-06-04', 2.45), ('2011-06-05', 0.76), ('2011-06-06', 0.1), ('2011-06-07', 0.19), ('2011-06-08', 0.23), ('2011-06-09', 0.1), ('2011-06-10', 0.11), ('2011-06-11', 0.17), ('2011-06-12', 1.5), ('2011-06-13', 0.41), ('2011-06-14', 0.14), ('2011-06-15', 0.01), ('2011-06-16', 0.83), ('2011-06-17', 0.18), ('2011-06-18', 0.07), ('2011-06-19', 1.84), ('2011-06-20', 0.91), ('2011-06-21', 1.03), ('2011-06-22', 1.65), ('2011-06-23', 0.68), ('2011-06-24', 1.16), ('2011-06-25', 0.06), ('2011-06-26', 0.29), ('2011-06-27', 0.98), ('2011-06-28', 0.25), ('2011-06-29', 0.06), ('2011-06-30', 0.0), ('2012-06-01', 0.26), ('2012-06-02', 0.22), ('2012-06-03', 0.0), ('2012-06-04', 0.02), ('2012-06-05', 0.0), ('2012-06-06', 0.72), ('2012-06-07', 0.12), ('2012-06-08', 0.3), ('2012-06-09', 0.0), ('2012-06-10', 0.08), ('2012-06-11', 0.08), ('2012-06-12', 0.14), ('2012-06-13', 0.48), ('2012-06-14', 0.21), ('2012-06-15', 0.0), ('2012-06-16', 0.0), ('2012-06-17', 0.1), ('2012-06-18', 0.0), ('2012-06-19', 0.38), ('2012-06-20', 1.84), ('2012-06-21', 0.34), ('2012-06-23', 0.94), ('2012-06-24', 1.13), ('2012-06-25', 0.89), ('2012-06-26', 0.92), ('2012-06-27', 0.73), ('2012-06-28', 0.37), ('2012-06-29', 0.79), ('2013-06-01', 0.71), ('2013-06-02', 0.81), ('2013-06-03', 0.49), ('2013-06-04', 0.03), ('2013-06-05', 0.0), ('2013-06-06', 0.14), ('2013-06-07', 0.07), ('2013-06-08', 0.08), ('2013-06-09', 0.02), ('2013-06-10', 0.02), ('2013-06-11', 0.05), ('2013-06-12', 0.28), ('2013-06-13', 0.47), ('2013-06-14', 2.56), ('2013-06-15', 0.11), ('2013-06-16', 0.3), ('2013-06-17', 0.43), ('2013-06-18', 0.44), ('2013-06-19', 0.05), ('2013-06-20', 0.18), ('2013-06-21', 1.53), ('2013-06-22', 1.96), ('2013-06-23', 0.67), ('2013-06-24', 0.62), ('2013-06-25', 2.03), ('2013-06-26', 2.8), ('2013-06-27', 0.06), ('2013-06-28', 0.34), ('2013-06-29', 0.53), ('2013-06-30', 0.83), ('2014-06-01', 0.26), ('2014-06-02', 0.68), ('2014-06-03', 0.19), ('2014-06-04', 0.09), ('2014-06-05', 0.03), ('2014-06-06', 0.88), ('2014-06-07', 0.15), ('2014-06-08', 0.29), ('2014-06-09', 1.0), ('2014-06-10', 0.11), ('2014-06-11', 0.57), ('2014-06-12', 0.02), ('2014-06-13', 0.01), ('2014-06-14', 0.0), ('2014-06-15', 0.03), ('2014-06-16', 0.38), ('2014-06-17', 1.45), ('2014-06-18', 0.32), ('2014-06-19', 0.2), ('2014-06-20', 0.75), ('2014-06-21', 0.09), ('2014-06-22', 0.03), ('2014-06-23', 0.74), ('2014-06-24', 0.07), ('2014-06-25', 0.97), ('2014-06-26', 0.42), ('2014-06-27', 0.9), ('2014-06-28', 1.29), ('2014-06-29', 1.29), ('2015-06-01', 2.47), ('2015-06-02', 0.27), ('2015-06-03', 0.01), ('2015-06-04', 1.12), ('2015-06-05', 0.16), ('2015-06-06', 0.0), ('2015-06-07', 0.01), ('2015-06-08', 0.34), ('2015-06-09', 0.26), ('2015-06-10', 0.04), ('2015-06-12', None), ('2015-06-13', 0.0), ('2015-06-14', 0.47), ('2015-06-15', 0.67), ('2015-06-16', 0.94), ('2015-06-17', 0.48), ('2015-06-18', 0.54), ('2015-06-19', 0.69), ('2015-06-20', 0.13), ('2015-06-21', 0.1), ('2015-06-22', 0.19), ('2015-06-23', 0.31), ('2015-06-24', 0.78), ('2015-06-25', 1.36), ('2015-06-26', 0.4), ('2015-06-27', 0.17), ('2015-06-28', 0.16), ('2015-06-29', 1.62), ('2015-06-30', 0.0), ('2016-06-01', 1.4), ('2016-06-02', 0.74), ('2016-06-03', 0.1), ('2016-06-05', None), ('2016-06-06', 0.47), ('2016-06-07', 1.26), ('2016-06-08', 0.01), ('2016-06-09', 1.7), ('2016-06-10', 1.4), ('2016-06-11', 0.65), ('2016-06-12', 0.55), ('2016-06-13', 0.08), ('2016-06-14', 0.19), ('2016-06-15', 1.38), ('2016-06-16', 0.12), ('2016-06-17', 1.27), ('2016-06-18', 0.72), ('2016-06-19', 0.79), ('2016-06-20', 0.52), ('2016-06-21', 0.78), ('2016-06-22', 0.2), ('2016-06-23', 0.9), ('2016-06-25', None), ('2016-06-26', 0.7), ('2016-06-27', 0.3), ('2016-06-28', 0.25), ('2016-06-29', 0.35), ('2017-06-01', 0.01), ('2017-06-03', None), ('2017-06-04', 0.82), ('2017-06-05', 0.01), ('2017-06-06', 0.0), ('2017-06-07', 0.01), ('2017-06-08', 0.0), ('2017-06-10', None), ('2017-06-11', 0.7), ('2017-06-12', 0.81), ('2017-06-13', 0.65), ('2017-06-14', 0.81), ('2017-06-15', 1.69), ('2017-06-16', 0.1), ('2017-06-17', 0.1), ('2017-06-18', 0.7), ('2017-06-19', 0.4), ('2017-06-20', 0.31), ('2017-06-21', 0.3), ('2017-06-22', 0.28), ('2017-06-23', 0.5), ('2017-06-24', 0.22), ('2017-06-25', 0.5), ('2017-06-26', 0.02), ('2017-06-27', 0.1), ('2017-06-28', 0.02), ('2017-06-29', 0.04), ('2017-06-30', 0.2)]\n"
     ]
    }
   ],
   "source": [
    "# Additional Queries for Challenge\n",
    "from sqlalchemy import extract\n",
    "june_prcp_results =  session.query(Measurement.date, Measurement.prcp).filter(extract('month', Measurement.date) == 6).all()\n",
    "print(june_prcp_results)"
   ]
  },
  {
   "cell_type": "code",
   "execution_count": 14,
   "metadata": {},
   "outputs": [
    {
     "name": "stdout",
     "output_type": "stream",
     "text": [
      "[(0.0,), (0.01,), (0.0,), (0.0,), (0.0,), (0.0,), (0.0,), (0.0,), (0.0,), (0.0,), (0.0,), (0.0,), (0.0,), (0.0,), (0.0,), (0.0,), (0.0,), (0.0,), (0.0,), (0.0,), (0.0,), (0.0,), (0.0,), (0.0,), (0.0,), (0.02,), (0.0,), (0.0,), (0.0,), (0.0,), (0.07,), (0.0,), (0.56,), (0.89,), (0.0,), (0.0,), (0.0,), (0.03,), (0.01,), (0.0,), (0.0,), (0.0,), (0.0,), (0.0,), (0.0,), (0.0,), (0.0,), (0.05,), (0.06,), (0.07,), (None,), (0.0,), (0.0,), (0.01,), (0.01,), (0.0,), (0.02,), (0.02,), (0.0,), (0.0,), (0.0,), (0.0,), (0.0,), (None,), (None,), (0.0,), (0.0,), (0.0,), (0.0,), (0.0,), (0.0,), (0.0,), (0.0,), (0.0,), (0.0,), (0.0,), (0.0,), (0.0,), (0.0,), (0.0,), (0.03,), (0.15,), (0.01,), (0.0,), (0.05,), (0.0,), (0.01,), (0.0,), (0.0,), (0.0,), (0.0,), (0.0,), (0.0,), (0.0,), (0.0,), (0.0,), (0.0,), (0.0,), (0.0,), (0.37,), (0.0,), (0.0,), (0.0,), (0.01,), (0.0,), (0.04,), (0.12,), (0.04,), (0.02,), (0.35,), (0.03,), (0.01,), (0.0,), (0.0,), (0.03,), (0.01,), (0.0,), (0.66,), (0.01,), (0.0,), (0.0,), (0.0,), (0.03,), (0.0,), (0.0,), (0.0,), (0.0,), (0.0,), (0.0,), (0.0,), (0.01,), (0.0,), (0.03,), (0.15,), (0.01,), (0.07,), (0.01,), (0.01,), (0.19,), (0.0,), (0.05,), (0.06,), (0.04,), (0.0,), (0.01,), (0.02,), (0.0,), (0.0,), (0.0,), (0.0,), (0.0,), (0.0,), (0.0,), (0.0,), (0.0,), (0.0,), (0.0,), (0.0,), (0.0,), (0.0,), (0.0,), (0.0,), (0.03,), (0.0,), (0.01,), (0.04,), (0.0,), (0.0,), (0.03,), (0.03,), (0.03,), (0.0,), (0.0,), (0.0,), (0.0,), (0.0,), (0.06,), (0.0,), (0.0,), (0.0,), (0.0,), (0.0,), (0.01,), (0.0,), (0.01,), (0.05,), (0.0,), (0.01,), (0.0,), (0.0,), (0.01,), (0.02,), (0.02,), (0.0,), (0.01,), (0.01,), (0.0,), (0.0,), (0.0,), (0.01,), (0.03,), (0.01,), (0.01,), (0.0,), (0.0,), (0.0,), (0.0,), (0.0,), (0.02,), (0.0,), (0.0,), (0.0,), (0.0,), (0.0,), (0.0,), (0.04,), (0.08,), (0.02,), (0.0,), (0.0,), (0.0,), (0.0,), (0.0,), (0.05,), (0.0,), (0.02,), (0.0,), (0.0,), (0.0,), (0.06,), (0.0,), (0.0,), (0.0,), (0.0,), (0.0,), (0.08,), (0.03,), (0.0,), (0.0,), (0.0,), (0.0,), (0.0,), (0.02,), (0.0,), (0.0,), (0.02,), (0.0,), (0.0,), (0.01,), (0.06,), (0.0,), (0.01,), (0.02,), (0.06,), (0.13,), (0.02,), (0.01,), (0.0,), (0.0,), (0.01,), (0.05,), (0.24,), (0.03,), (0.11,), (0.0,), (0.03,), (0.03,), (0.08,), (0.63,), (4.43,), (4.02,), (0.02,), (0.06,), (0.04,), (0.01,), (0.02,), (0.01,), (0.12,), (0.16,), (0.0,), (0.0,), (0.06,), (0.0,), (0.02,), (0.09,), (0.03,), (0.54,), (0.22,), (0.03,), (0.21,), (0.0,), (0.04,), (0.03,), (0.1,), (0.0,), (0.0,), (0.08,), (0.03,), (0.0,), (0.0,), (0.0,), (0.03,), (0.0,), (0.0,), (0.0,), (0.0,), (0.04,), (0.02,), (0.05,), (0.08,), (0.0,), (0.0,), (0.02,), (0.0,), (0.01,), (0.14,), (0.02,), (0.01,), (0.28,), (0.27,), (0.04,), (0.22,), (0.23,), (0.0,), (0.06,), (0.0,), (0.05,), (0.02,), (0.02,), (0.0,), (0.0,), (0.03,), (0.0,), (0.0,), (0.0,), (0.02,), (0.0,), (0.0,), (0.02,), (0.08,), (0.01,), (0.0,), (0.01,), (0.02,), (0.0,), (0.0,), (0.22,), (0.27,), (0.03,), (0.02,), (0.05,), (1.0,), (0.1,), (0.02,), (0.22,), (0.01,), (0.0,), (0.0,), (0.0,), (0.0,), (0.0,), (0.13,), (0.01,), (0.02,), (0.02,), (0.1,), (0.15,), (0.0,), (0.0,), (0.0,), (0.01,), (0.12,), (0.05,), (0.07,), (0.0,), (0.29,), (0.06,), (0.15,), (0.15,), (0.1,), (0.04,), (0.04,), (0.02,), (0.25,), (0.18,), (0.03,), (None,), (0.27,), (0.0,), (0.0,), (0.0,), (0.1,), (0.05,), (0.07,), (0.1,), (0.0,), (0.0,), (0.07,), (0.0,), (0.14,), (0.25,), (0.14,), (0.02,), (0.04,), (0.01,), (0.01,), (0.03,), (0.14,), (0.2,), (0.1,), (0.06,), (None,), (0.89,), (0.15,), (0.16,), (0.0,), (0.63,), (0.36,), (0.4,), (0.0,), (0.21,), (0.06,), (0.02,), (0.04,), (0.08,), (0.06,), (0.18,), (0.03,), (0.16,), (0.3,), (0.02,), (0.16,), (0.03,), (0.01,), (0.25,), (0.02,), (0.8,), (0.06,), (0.06,), (0.02,), (0.03,), (0.0,), (0.03,), (0.1,), (0.2,), (0.15,), (0.0,), (0.0,), (0.0,), (0.02,), (0.02,), (0.21,), (0.24,), (0.19,), (0.36,), (0.27,), (0.17,), (0.02,), (0.35,), (0.25,), (0.05,), (0.05,), (0.02,), (0.1,), (0.0,), (0.0,), (0.08,), (0.02,), (0.0,), (0.01,), (0.03,), (0.04,), (0.01,), (0.0,), (0.0,), (0.0,), (0.0,), (0.0,), (0.09,), (0.0,), (0.0,), (0.0,), (0.0,), (0.03,), (0.0,), (0.06,), (0.03,), (0.0,), (0.0,), (0.03,), (0.04,), (0.0,), (0.0,), (0.0,), (0.0,), (0.05,), (0.12,), (None,), (0.18,), (0.06,), (0.03,), (0.19,), (0.04,), (1.75,), (1.14,), (3.6,), (0.0,), (0.05,), (0.17,), (0.0,), (0.02,), (None,), (0.02,), (0.0,), (0.13,), (0.0,), (0.0,), (0.12,), (None,), (0.2,), (0.09,), (0.17,), (0.03,), (None,), (0.12,), (0.08,), (0.01,), (None,), (0.12,), (0.03,), (0.2,), (0.0,), (0.23,), (0.02,), (None,), (0.0,), (0.0,), (0.0,), (0.01,), (0.0,), (0.01,), (0.0,), (0.0,), (0.04,), (0.08,), (0.03,), (None,), (0.04,), (0.04,), (0.08,), (0.01,), (None,), (0.17,), (0.0,), (None,), (0.02,), (0.0,), (0.0,), (0.0,), (0.13,), (0.04,), (None,), (0.16,), (0.17,), (0.0,), (0.0,), (0.0,), (None,), (0.39,), (0.08,), (0.14,), (0.07,), (0.11,), (None,), (0.03,), (0.1,), (0.08,), (0.08,), (None,), (0.04,), (0.05,), (0.0,), (0.22,), (0.0,), (0.0,), (None,), (0.0,), (0.0,), (0.0,), (0.03,), (None,), (0.0,), (0.0,), (0.16,), (0.04,), (0.02,), (0.06,), (0.0,), (0.04,), (0.02,), (0.01,), (0.2,), (0.11,), (0.09,), (0.0,), (0.11,), (1.1,), (0.22,), (0.35,), (0.02,), (None,), (0.0,), (0.12,), (0.13,), (0.01,), (0.26,), (0.01,), (0.0,), (0.18,), (0.06,), (0.17,), (0.03,), (0.03,), (0.47,), (0.0,), (0.08,), (0.1,), (0.03,), (0.44,), (0.03,), (0.0,), (0.0,), (0.06,), (0.0,), (0.0,), (0.15,), (0.16,), (0.05,), (0.02,), (0.0,), (0.0,), (0.01,), (0.0,), (0.53,), (0.14,), (0.35,), (0.1,), (0.21,), (0.3,), (0.02,), (0.02,), (0.18,), (0.19,), (0.17,), (None,), (None,), (None,), (0.0,), (0.0,), (0.0,), (0.14,), (0.0,), (0.0,), (0.0,), (0.0,), (0.0,), (0.0,), (0.0,), (0.0,), (0.05,), (0.0,), (0.02,), (0.0,), (0.02,), (0.1,), (0.0,), (0.0,), (0.0,), (None,), (0.0,), (1.71,), (0.0,), (0.0,), (0.05,), (0.0,), (0.0,), (0.0,), (None,), (None,), (None,), (None,), (0.25,), (0.08,), (0.22,), (0.1,), (None,), (None,), (None,), (0.0,), (0.04,), (None,), (0.0,), (None,), (None,), (0.0,), (None,), (0.0,), (0.25,), (None,), (None,), (0.02,), (0.05,), (0.0,), (0.0,), (None,), (None,), (None,), (0.0,), (0.0,), (None,), (None,), (0.02,), (0.0,), (0.0,), (0.0,), (None,), (None,), (None,), (None,), (0.08,), (0.0,), (0.04,), (0.08,), (None,), (None,), (0.01,), (None,), (None,), (0.0,), (None,), (None,), (None,), (None,), (0.0,), (None,), (0.0,), (None,), (0.2,), (0.0,), (0.01,), (0.14,), (0.0,), (0.04,), (0.0,), (None,), (0.0,), (0.01,), (0.0,), (0.0,), (None,), (0.04,), (0.09,), (None,), (None,), (None,), (None,), (None,), (None,), (None,), (None,), (None,), (None,), (None,), (None,), (0.02,), (0.1,), (0.38,), (0.1,), (None,), (None,), (None,), (None,), (None,), (None,), (None,), (None,), (None,), (None,), (None,), (None,), (None,), (None,), (None,), (None,), (None,), (None,), (None,), (None,), (None,), (0.0,), (0.0,), (None,), (0.0,), (0.0,), (0.0,), (0.12,), (None,), (0.03,), (0.0,), (0.0,), (0.0,), (0.0,), (None,), (0.0,), (0.0,), (0.0,), (0.01,), (None,), (0.0,), (0.3,), (0.02,), (0.03,), (None,), (0.11,), (0.28,), (0.3,), (None,), (0.1,), (0.04,), (None,), (0.04,), (None,), (0.08,), (0.09,), (0.06,), (0.07,), (None,), (0.05,), (0.82,), (0.03,), (None,), (None,), (None,), (None,), (0.03,), (0.0,), (0.0,), (0.0,), (0.0,), (0.0,), (0.0,), (0.01,), (0.0,), (0.0,), (0.0,), (0.0,), (0.0,), (0.0,), (0.0,), (0.0,), (0.0,), (0.14,), (0.0,), (0.0,), (0.0,), (0.0,), (0.0,), (0.0,), (0.08,), (0.08,), (0.0,), (0.0,), (0.0,), (0.15,), (0.01,), (0.09,), (0.51,), (0.25,), (0.03,), (0.03,), (0.0,), (0.0,), (0.0,), (0.0,), (0.09,), (0.0,), (0.0,), (0.0,), (0.09,), (0.0,), (0.0,), (0.17,), (0.14,), (0.38,), (0.17,), (0.05,), (0.03,), (0.0,), (0.12,), (0.02,), (0.02,), (0.0,), (0.0,), (0.0,), (0.0,), (0.0,), (0.0,), (0.0,), (0.12,), (0.0,), (0.0,), (0.0,), (0.0,), (0.0,), (0.01,), (0.01,), (0.0,), (0.0,), (0.0,), (0.0,), (0.0,), (0.25,), (0.25,), (0.0,), (0.0,), (0.1,), (0.0,), (0.51,), (0.19,), (0.15,), (0.0,), (0.06,), (0.0,), (0.0,), (0.08,), (0.02,), (0.0,), (0.0,), (0.0,), (0.07,), (0.0,), (0.0,), (0.0,), (0.0,), (0.0,), (0.0,), (0.28,), (0.0,), (0.0,), (0.0,), (0.0,), (0.0,), (0.07,), (0.32,), (0.13,), (0.08,), (0.01,), (0.18,), (0.42,), (0.02,), (0.05,), (0.0,), (0.0,), (0.1,), (None,), (0.0,), (0.0,), (0.0,), (0.0,), (0.0,), (0.0,), (0.13,), (0.0,), (0.0,), (0.0,), (0.0,), (0.0,), (None,), (0.0,), (0.51,), (0.0,), (0.01,), (0.23,), (0.01,), (0.07,), (0.1,), (None,), (0.01,), (0.07,), (0.13,), (0.0,), (0.0,), (0.07,), (0.01,), (0.0,), (0.0,), (0.01,), (0.01,), (0.0,), (0.0,), (0.0,), (0.0,), (0.0,), (0.0,), (0.0,), (0.05,), (0.18,), (0.0,), (0.0,), (0.0,), (0.0,), (0.05,), (0.0,), (0.14,), (0.0,), (0.0,), (None,), (0.0,), (0.38,), (0.03,), (0.47,), (0.02,), (0.14,), (0.17,), (0.07,), (0.0,), (0.15,), (0.23,), (0.0,), (0.12,), (0.1,), (0.0,), (0.25,), (None,), (0.0,), (0.06,), (0.03,), (0.03,), (0.0,), (0.0,), (0.0,), (0.21,), (0.0,), (0.0,), (0.0,), (0.0,), (0.0,), (0.0,), (0.0,), (0.15,), (0.0,), (0.0,), (0.0,), (0.0,), (0.0,), (0.0,), (0.13,), (0.25,), (0.14,), (0.03,), (0.06,), (0.0,), (0.0,), (0.0,), (0.0,), (0.01,), (None,), (0.0,), (0.05,), (0.0,), (0.0,), (0.0,), (0.0,), (0.0,), (0.0,), (0.07,), (0.0,), (0.03,), (0.0,), (0.0,), (0.0,), (0.0,), (0.12,), (0.0,), (0.0,), (0.0,), (0.0,), (0.0,), (0.04,), (0.06,), (0.11,), (0.0,), (0.02,), (0.19,), (0.33,), (0.0,), (0.0,), (0.0,), (0.02,), (0.07,), (0.09,), (0.41,), (0.05,), (0.0,), (0.05,), (0.0,), (0.22,), (0.42,), (0.33,), (0.03,), (0.05,), (0.03,), (0.03,), (0.32,), (0.05,), (0.16,), (0.0,), (0.06,), (0.03,), (0.01,), (0.14,), (0.05,), (0.57,), (0.61,), (0.06,), (0.81,), (0.01,), (0.11,), (0.09,), (0.12,), (0.08,), (0.03,), (0.02,), (0.08,), (0.0,), (0.0,), (0.0,), (0.1,), (0.07,), (0.01,), (0.0,), (0.0,), (0.11,), (0.16,), (0.07,), (0.21,), (0.0,), (0.0,), (0.02,), (0.0,), (0.02,), (0.33,), (0.26,), (0.03,), (0.35,), (0.14,), (0.13,), (0.22,), (0.43,), (0.01,), (0.14,), (0.01,), (0.06,), (0.17,), (0.08,), (0.0,), (0.0,), (0.0,), (0.0,), (0.0,), (0.0,), (0.01,), (0.02,), (0.0,), (0.1,), (0.16,), (0.1,), (0.03,), (0.05,), (0.04,), (0.01,), (0.02,), (0.53,), (0.88,), (0.03,), (0.22,), (0.36,), (0.82,), (0.07,), (0.04,), (0.43,), (0.71,), (0.07,), (0.06,), (0.0,), (0.01,), (0.01,), (0.19,), (0.2,), (0.18,), (0.04,), (0.22,), (0.37,), (0.02,), (0.0,), (0.02,), (0.02,), (0.03,), (0.29,), (0.17,), (0.04,), (0.16,), (0.22,), (0.04,), (0.31,), (0.08,), (0.23,), (0.31,), (0.12,), (0.6,), (0.48,), (0.01,), (0.46,), (0.02,), (0.0,), (1.24,), (0.06,), (0.0,), (0.07,), (0.01,), (0.34,), (0.03,), (0.03,), (0.08,), (0.01,), (0.05,), (0.03,), (0.01,), (0.15,), (0.45,), (0.19,), (0.13,), (0.05,), (0.05,), (0.03,), (0.17,), (0.21,), (0.02,), (0.21,), (0.02,), (0.27,), (0.16,), (1.39,), (0.5,), (0.02,), (0.0,), (0.22,), (0.52,), (0.35,), (0.0,), (0.29,), (0.62,), (0.13,), (0.28,), (0.02,), (0.2,), (0.68,), (0.05,), (0.29,), (0.4,), (0.05,), (0.4,), (0.04,), (0.13,), (0.39,), (0.12,), (0.75,), (0.03,), (0.37,), (0.23,), (0.1,), (0.01,), (0.0,), (0.09,), (0.08,), (0.13,), (0.05,), (0.0,), (0.0,), (0.0,), (0.02,), (0.62,), (0.74,), (0.24,), (0.24,), (0.22,), (0.55,), (0.06,), (0.07,), (0.24,), (0.08,), (0.0,), (0.19,), (0.06,), (0.12,), (0.36,), (0.02,), (0.06,), (0.01,), (0.0,), (0.0,), (0.01,), (0.0,), (0.0,), (0.0,), (0.0,), (0.0,), (0.0,), (0.05,), (0.0,), (0.0,), (0.0,), (0.0,), (0.0,), (0.0,), (0.0,), (0.0,), (0.0,), (0.04,), (0.05,), (0.0,), (0.0,), (0.0,), (0.0,), (0.0,), (0.02,), (0.0,), (0.09,), (0.0,), (0.02,), (0.03,), (0.02,), (0.0,), (0.03,), (0.58,), (0.02,), (0.0,), (0.0,), (0.1,), (0.0,), (0.0,), (0.0,), (0.02,), (0.0,), (0.0,), (0.0,), (0.01,), (0.0,), (0.0,), (0.0,), (0.01,), (0.03,), (0.1,), (0.01,), (0.0,), (0.0,), (0.0,), (0.0,), (0.0,), (0.0,), (0.0,), (0.01,), (0.02,), (0.0,), (0.0,), (0.0,), (0.01,), (0.0,), (0.0,), (0.0,), (0.0,), (0.0,), (0.0,), (0.03,), (0.0,), (None,), (0.0,), (0.0,), (0.0,), (0.02,), (0.0,), (0.0,), (0.1,), (0.0,), (0.01,), (0.0,), (0.01,), (0.0,), (0.0,), (0.0,), (0.0,), (0.0,), (0.0,), (0.0,), (0.0,), (0.0,), (0.0,), (0.0,), (0.0,), (0.0,), (0.0,), (0.0,), (0.0,), (0.07,), (0.0,), (0.0,), (0.0,), (0.0,), (0.0,), (0.0,), (0.05,), (0.0,), (0.0,), (0.0,), (0.02,), (0.06,), (0.0,), (0.0,), (0.08,), (0.0,), (0.0,), (0.0,), (0.0,), (0.0,), (None,), (0.0,), (0.0,), (0.0,), (0.0,), (0.0,), (0.0,), (0.0,), (0.0,), (0.0,), (0.0,), (0.17,), (0.01,), (0.0,), (0.03,), (0.0,), (0.0,), (0.05,), (0.05,), (0.05,), (0.03,), (0.02,), (0.05,), (0.0,), (0.01,), (0.0,), (0.0,), (0.0,), (0.0,), (None,), (0.0,), (None,), (0.0,), (None,), (0.2,), (0.0,), (0.0,), (0.0,), (None,), (0.0,), (0.0,), (0.01,), (0.01,), (0.08,), (0.0,), (0.1,), (0.01,), (0.09,), (0.13,), (0.44,), (0.27,), (0.0,), (None,), (None,), (0.05,), (None,), (None,), (0.04,), (0.26,), (0.79,), (0.88,), (0.37,), (0.16,), (0.02,), (0.71,), (0.61,), (0.22,), (2.0,), (2.45,), (0.76,), (0.1,), (0.19,), (0.23,), (0.1,), (0.11,), (0.17,), (1.5,), (0.41,), (0.14,), (0.01,), (0.83,), (0.18,), (0.07,), (1.84,), (0.91,), (1.03,), (1.65,), (0.68,), (1.16,), (0.06,), (0.29,), (0.98,), (0.25,), (0.06,), (0.0,), (0.26,), (0.22,), (0.0,), (0.02,), (0.0,), (0.72,), (0.12,), (0.3,), (0.0,), (0.08,), (0.08,), (0.14,), (0.48,), (0.21,), (0.0,), (0.0,), (0.1,), (0.0,), (0.38,), (1.84,), (0.34,), (0.94,), (1.13,), (0.89,), (0.92,), (0.73,), (0.37,), (0.79,), (0.71,), (0.81,), (0.49,), (0.03,), (0.0,), (0.14,), (0.07,), (0.08,), (0.02,), (0.02,), (0.05,), (0.28,), (0.47,), (2.56,), (0.11,), (0.3,), (0.43,), (0.44,), (0.05,), (0.18,), (1.53,), (1.96,), (0.67,), (0.62,), (2.03,), (2.8,), (0.06,), (0.34,), (0.53,), (0.83,), (0.26,), (0.68,), (0.19,), (0.09,), (0.03,), (0.88,), (0.15,), (0.29,), (1.0,), (0.11,), (0.57,), (0.02,), (0.01,), (0.0,), (0.03,), (0.38,), (1.45,), (0.32,), (0.2,), (0.75,), (0.09,), (0.03,), (0.74,), (0.07,), (0.97,), (0.42,), (0.9,), (1.29,), (1.29,), (2.47,), (0.27,), (0.01,), (1.12,), (0.16,), (0.0,), (0.01,), (0.34,), (0.26,), (0.04,), (None,), (0.0,), (0.47,), (0.67,), (0.94,), (0.48,), (0.54,), (0.69,), (0.13,), (0.1,), (0.19,), (0.31,), (0.78,), (1.36,), (0.4,), (0.17,), (0.16,), (1.62,), (0.0,), (1.4,), (0.74,), (0.1,), (None,), (0.47,), (1.26,), (0.01,), (1.7,), (1.4,), (0.65,), (0.55,), (0.08,), (0.19,), (1.38,), (0.12,), (1.27,), (0.72,), (0.79,), (0.52,), (0.78,), (0.2,), (0.9,), (None,), (0.7,), (0.3,), (0.25,), (0.35,), (0.01,), (None,), (0.82,), (0.01,), (0.0,), (0.01,), (0.0,), (None,), (0.7,), (0.81,), (0.65,), (0.81,), (1.69,), (0.1,), (0.1,), (0.7,), (0.4,), (0.31,), (0.3,), (0.28,), (0.5,), (0.22,), (0.5,), (0.02,), (0.1,), (0.02,), (0.04,), (0.2,)]\n"
     ]
    }
   ],
   "source": [
    "june_prcp = session.query (Measurement.prcp).filter(extract('month', Measurement.date) == 6).all()\n",
    "print(june_prcp)"
   ]
  },
  {
   "cell_type": "code",
   "execution_count": 17,
   "metadata": {},
   "outputs": [
    {
     "data": {
      "text/html": [
       "<div>\n",
       "<style scoped>\n",
       "    .dataframe tbody tr th:only-of-type {\n",
       "        vertical-align: middle;\n",
       "    }\n",
       "\n",
       "    .dataframe tbody tr th {\n",
       "        vertical-align: top;\n",
       "    }\n",
       "\n",
       "    .dataframe thead th {\n",
       "        text-align: right;\n",
       "    }\n",
       "</style>\n",
       "<table border=\"1\" class=\"dataframe\">\n",
       "  <thead>\n",
       "    <tr style=\"text-align: right;\">\n",
       "      <th></th>\n",
       "      <th>Precipitation</th>\n",
       "    </tr>\n",
       "  </thead>\n",
       "  <tbody>\n",
       "    <tr>\n",
       "      <th>0</th>\n",
       "      <td>0.00</td>\n",
       "    </tr>\n",
       "    <tr>\n",
       "      <th>1</th>\n",
       "      <td>0.01</td>\n",
       "    </tr>\n",
       "    <tr>\n",
       "      <th>2</th>\n",
       "      <td>0.00</td>\n",
       "    </tr>\n",
       "    <tr>\n",
       "      <th>3</th>\n",
       "      <td>0.00</td>\n",
       "    </tr>\n",
       "    <tr>\n",
       "      <th>4</th>\n",
       "      <td>0.00</td>\n",
       "    </tr>\n",
       "    <tr>\n",
       "      <th>...</th>\n",
       "      <td>...</td>\n",
       "    </tr>\n",
       "    <tr>\n",
       "      <th>1695</th>\n",
       "      <td>0.02</td>\n",
       "    </tr>\n",
       "    <tr>\n",
       "      <th>1696</th>\n",
       "      <td>0.10</td>\n",
       "    </tr>\n",
       "    <tr>\n",
       "      <th>1697</th>\n",
       "      <td>0.02</td>\n",
       "    </tr>\n",
       "    <tr>\n",
       "      <th>1698</th>\n",
       "      <td>0.04</td>\n",
       "    </tr>\n",
       "    <tr>\n",
       "      <th>1699</th>\n",
       "      <td>0.20</td>\n",
       "    </tr>\n",
       "  </tbody>\n",
       "</table>\n",
       "<p>1700 rows × 1 columns</p>\n",
       "</div>"
      ],
      "text/plain": [
       "      Precipitation\n",
       "0              0.00\n",
       "1              0.01\n",
       "2              0.00\n",
       "3              0.00\n",
       "4              0.00\n",
       "...             ...\n",
       "1695           0.02\n",
       "1696           0.10\n",
       "1697           0.02\n",
       "1698           0.04\n",
       "1699           0.20\n",
       "\n",
       "[1700 rows x 1 columns]"
      ]
     },
     "execution_count": 17,
     "metadata": {},
     "output_type": "execute_result"
    }
   ],
   "source": [
    "june_prcp_df = pd.DataFrame(june_prcp, columns =['Precipitation'])\n",
    "june_prcp_df"
   ]
  },
  {
   "cell_type": "code",
   "execution_count": 18,
   "metadata": {},
   "outputs": [
    {
     "data": {
      "text/html": [
       "<div>\n",
       "<style scoped>\n",
       "    .dataframe tbody tr th:only-of-type {\n",
       "        vertical-align: middle;\n",
       "    }\n",
       "\n",
       "    .dataframe tbody tr th {\n",
       "        vertical-align: top;\n",
       "    }\n",
       "\n",
       "    .dataframe thead th {\n",
       "        text-align: right;\n",
       "    }\n",
       "</style>\n",
       "<table border=\"1\" class=\"dataframe\">\n",
       "  <thead>\n",
       "    <tr style=\"text-align: right;\">\n",
       "      <th></th>\n",
       "      <th>Precipitation</th>\n",
       "    </tr>\n",
       "  </thead>\n",
       "  <tbody>\n",
       "    <tr>\n",
       "      <th>count</th>\n",
       "      <td>1574.000000</td>\n",
       "    </tr>\n",
       "    <tr>\n",
       "      <th>mean</th>\n",
       "      <td>0.136360</td>\n",
       "    </tr>\n",
       "    <tr>\n",
       "      <th>std</th>\n",
       "      <td>0.335731</td>\n",
       "    </tr>\n",
       "    <tr>\n",
       "      <th>min</th>\n",
       "      <td>0.000000</td>\n",
       "    </tr>\n",
       "    <tr>\n",
       "      <th>25%</th>\n",
       "      <td>0.000000</td>\n",
       "    </tr>\n",
       "    <tr>\n",
       "      <th>50%</th>\n",
       "      <td>0.020000</td>\n",
       "    </tr>\n",
       "    <tr>\n",
       "      <th>75%</th>\n",
       "      <td>0.120000</td>\n",
       "    </tr>\n",
       "    <tr>\n",
       "      <th>max</th>\n",
       "      <td>4.430000</td>\n",
       "    </tr>\n",
       "  </tbody>\n",
       "</table>\n",
       "</div>"
      ],
      "text/plain": [
       "       Precipitation\n",
       "count    1574.000000\n",
       "mean        0.136360\n",
       "std         0.335731\n",
       "min         0.000000\n",
       "25%         0.000000\n",
       "50%         0.020000\n",
       "75%         0.120000\n",
       "max         4.430000"
      ]
     },
     "execution_count": 18,
     "metadata": {},
     "output_type": "execute_result"
    }
   ],
   "source": [
    "june_prcp_df.describe()"
   ]
  }
 ],
 "metadata": {
  "kernelspec": {
   "display_name": "Python 3 (ipykernel)",
   "language": "python",
   "name": "python3"
  },
  "language_info": {
   "codemirror_mode": {
    "name": "ipython",
    "version": 3
   },
   "file_extension": ".py",
   "mimetype": "text/x-python",
   "name": "python",
   "nbconvert_exporter": "python",
   "pygments_lexer": "ipython3",
   "version": "3.7.13"
  }
 },
 "nbformat": 4,
 "nbformat_minor": 2
}
